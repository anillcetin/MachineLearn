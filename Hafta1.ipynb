{
  "nbformat": 4,
  "nbformat_minor": 0,
  "metadata": {
    "colab": {
      "provenance": [],
      "authorship_tag": "ABX9TyP46xmjRnCZ9Nyqu0tt4beQ",
      "include_colab_link": true
    },
    "kernelspec": {
      "name": "python3",
      "display_name": "Python 3"
    },
    "language_info": {
      "name": "python"
    }
  },
  "cells": [
    {
      "cell_type": "markdown",
      "metadata": {
        "id": "view-in-github",
        "colab_type": "text"
      },
      "source": [
        "<a href=\"https://colab.research.google.com/github/anillcetin/ForwardKinematicsOfMentor/blob/main/Hafta1.ipynb\" target=\"_parent\"><img src=\"https://colab.research.google.com/assets/colab-badge.svg\" alt=\"Open In Colab\"/></a>"
      ]
    },
    {
      "cell_type": "code",
      "execution_count": null,
      "metadata": {
        "colab": {
          "base_uri": "https://localhost:8080/"
        },
        "id": "LHnEuXw3QwBX",
        "outputId": "3aec2cb8-3a4e-4690-d0b9-aaff417569b0"
      },
      "outputs": [
        {
          "output_type": "stream",
          "name": "stdout",
          "text": [
            "75\n"
          ]
        }
      ],
      "source": [
        "var = 19\n",
        "var2 = 56\n",
        "\n",
        "ay = \"ocak\"\n",
        "\n",
        "print(var + var2)"
      ]
    },
    {
      "cell_type": "code",
      "source": [
        "list_renk = [\"sarı\",\"lacivert\",\"yeşil\"]\n",
        "type(list_renk)"
      ],
      "metadata": {
        "colab": {
          "base_uri": "https://localhost:8080/"
        },
        "id": "DqNS7iMXQ9A1",
        "outputId": "76d12fcb-6f9f-43d1-8c89-d4637f911002"
      },
      "execution_count": null,
      "outputs": [
        {
          "output_type": "execute_result",
          "data": {
            "text/plain": [
              "list"
            ]
          },
          "metadata": {},
          "execution_count": 3
        }
      ]
    },
    {
      "cell_type": "code",
      "source": [
        "list_renk[0:3]"
      ],
      "metadata": {
        "colab": {
          "base_uri": "https://localhost:8080/"
        },
        "id": "68JfFRAARPm_",
        "outputId": "bf78b710-b213-4a80-cdfd-7fa68296458b"
      },
      "execution_count": null,
      "outputs": [
        {
          "output_type": "execute_result",
          "data": {
            "text/plain": [
              "['sarı', 'lacivert', 'yeşil']"
            ]
          },
          "metadata": {},
          "execution_count": 4
        }
      ]
    },
    {
      "cell_type": "code",
      "source": [
        "list_renk.append(\"beyaz\")\n",
        "print(list_renk)"
      ],
      "metadata": {
        "colab": {
          "base_uri": "https://localhost:8080/"
        },
        "id": "fjhXpe19RXlG",
        "outputId": "ca361f38-dc17-4a03-b0b4-d65a2d53f0fe"
      },
      "execution_count": null,
      "outputs": [
        {
          "output_type": "stream",
          "name": "stdout",
          "text": [
            "['sarı', 'lacivert', 'yeşil', 'beyaz']\n"
          ]
        }
      ]
    },
    {
      "cell_type": "code",
      "source": [
        "list_renk.remove(\"yeşil\")\n",
        "print(list_renk)"
      ],
      "metadata": {
        "colab": {
          "base_uri": "https://localhost:8080/"
        },
        "id": "wSYdmfiIRlmL",
        "outputId": "aef36353-f11a-404c-d273-4f616ea02e1e"
      },
      "execution_count": null,
      "outputs": [
        {
          "output_type": "stream",
          "name": "stdout",
          "text": [
            "['sarı', 'lacivert', 'beyaz']\n"
          ]
        }
      ]
    },
    {
      "cell_type": "code",
      "source": [
        "list_renk.reverse()\n",
        "print(list_renk)"
      ],
      "metadata": {
        "colab": {
          "base_uri": "https://localhost:8080/"
        },
        "id": "MxsNVSKLRuf9",
        "outputId": "5b005b57-8ac1-4458-fd36-29d8460a30da"
      },
      "execution_count": null,
      "outputs": [
        {
          "output_type": "stream",
          "name": "stdout",
          "text": [
            "['beyaz', 'lacivert', 'sarı']\n"
          ]
        }
      ]
    },
    {
      "cell_type": "code",
      "source": [
        "value = list_renk[1]\n",
        "print(value)"
      ],
      "metadata": {
        "colab": {
          "base_uri": "https://localhost:8080/"
        },
        "id": "iMga0JeKTR5a",
        "outputId": "c0919d81-b067-4afb-87c8-31e2226e8ba7"
      },
      "execution_count": null,
      "outputs": [
        {
          "output_type": "stream",
          "name": "stdout",
          "text": [
            "lacivert\n"
          ]
        }
      ]
    },
    {
      "cell_type": "code",
      "source": [
        "list_renk.append(78)\n",
        "print(list_renk)"
      ],
      "metadata": {
        "colab": {
          "base_uri": "https://localhost:8080/"
        },
        "id": "6QYxMELMTddz",
        "outputId": "2e6e21d1-e1f7-4478-f49c-ab18fae0da54"
      },
      "execution_count": null,
      "outputs": [
        {
          "output_type": "stream",
          "name": "stdout",
          "text": [
            "['beyaz', 'lacivert', 'sarı', 78]\n"
          ]
        }
      ]
    },
    {
      "cell_type": "code",
      "source": [
        "for i in range(1,5):\n",
        "  print(i)\n"
      ],
      "metadata": {
        "colab": {
          "base_uri": "https://localhost:8080/"
        },
        "id": "7j5bOWZUR3jT",
        "outputId": "6345a3e9-c035-4307-a0cb-d9eb7d2854e1"
      },
      "execution_count": null,
      "outputs": [
        {
          "output_type": "stream",
          "name": "stdout",
          "text": [
            "1\n",
            "2\n",
            "3\n",
            "4\n"
          ]
        }
      ]
    },
    {
      "cell_type": "code",
      "source": [
        "for index in \"karabük\":\n",
        "  print(index)"
      ],
      "metadata": {
        "colab": {
          "base_uri": "https://localhost:8080/"
        },
        "id": "FZ9ISanrTltr",
        "outputId": "4583db03-05ce-4084-ebea-d85c9867aa11"
      },
      "execution_count": null,
      "outputs": [
        {
          "output_type": "stream",
          "name": "stdout",
          "text": [
            "k\n",
            "a\n",
            "r\n",
            "a\n",
            "b\n",
            "ü\n",
            "k\n"
          ]
        }
      ]
    },
    {
      "cell_type": "code",
      "source": [
        "list2 = [1,2,3,4,5,9,45,6,-4,23]\n",
        "print(\"Minimum:\",min(list2) ) \n",
        "print(\"Toplam:\",sum(list2) ) "
      ],
      "metadata": {
        "colab": {
          "base_uri": "https://localhost:8080/"
        },
        "id": "ggcYqooHUDDP",
        "outputId": "2244ba3c-62c1-4c10-9f16-aaaea0e87b76"
      },
      "execution_count": null,
      "outputs": [
        {
          "output_type": "stream",
          "name": "stdout",
          "text": [
            "Minimum: -4\n",
            "Toplam: 94\n"
          ]
        }
      ]
    },
    {
      "cell_type": "code",
      "source": [
        "def kare_cevre(kenar):\n",
        "  output = kenar*4\n",
        "  return output\n",
        "\n",
        "kare_cevre(6)"
      ],
      "metadata": {
        "colab": {
          "base_uri": "https://localhost:8080/"
        },
        "id": "I5B4RFYUSGPu",
        "outputId": "49229b10-eb18-4921-8629-62673a34c93a"
      },
      "execution_count": null,
      "outputs": [
        {
          "output_type": "execute_result",
          "data": {
            "text/plain": [
              "24"
            ]
          },
          "metadata": {},
          "execution_count": 10
        }
      ]
    },
    {
      "cell_type": "code",
      "source": [
        "dictionary = {\"anıl\":78,\"damla\":34,\"ibrahim\":63}\n",
        "print(dictionary)"
      ],
      "metadata": {
        "colab": {
          "base_uri": "https://localhost:8080/"
        },
        "id": "VGGNlJYBSxPv",
        "outputId": "0a89f26b-9fdf-4ebd-eccb-7b1af517637d"
      },
      "execution_count": null,
      "outputs": [
        {
          "output_type": "stream",
          "name": "stdout",
          "text": [
            "{'anıl': 78, 'damla': 34, 'ibrahim': 63}\n"
          ]
        }
      ]
    },
    {
      "cell_type": "code",
      "source": [
        "type(dictionary)"
      ],
      "metadata": {
        "colab": {
          "base_uri": "https://localhost:8080/"
        },
        "id": "t35RQNSmVY1V",
        "outputId": "49977085-46fd-476e-aeb1-92500941fbc5"
      },
      "execution_count": null,
      "outputs": [
        {
          "output_type": "execute_result",
          "data": {
            "text/plain": [
              "dict"
            ]
          },
          "metadata": {},
          "execution_count": 25
        }
      ]
    },
    {
      "cell_type": "code",
      "source": [
        "dictionary[\"damla\"]"
      ],
      "metadata": {
        "colab": {
          "base_uri": "https://localhost:8080/"
        },
        "id": "mPwEDjXEVdgE",
        "outputId": "5160d82f-aed3-43d3-8451-45cc127e1832"
      },
      "execution_count": null,
      "outputs": [
        {
          "output_type": "execute_result",
          "data": {
            "text/plain": [
              "34"
            ]
          },
          "metadata": {},
          "execution_count": 27
        }
      ]
    },
    {
      "cell_type": "code",
      "source": [
        "keys = dictionary.keys()\n",
        "if \"anıl\" in keys: \n",
        "    print(\"evet\")\n",
        "\n",
        "else:\n",
        "    print(\"hayır\")\n",
        "\n",
        "if \"hey\" in keys: \n",
        "    print(\"evet\")\n",
        "\n",
        "else:\n",
        "    print(\"hayır\")"
      ],
      "metadata": {
        "colab": {
          "base_uri": "https://localhost:8080/"
        },
        "id": "W1yu9KD6VrNZ",
        "outputId": "56b1d870-ad71-434b-a6bf-a7a59ecd1505"
      },
      "execution_count": null,
      "outputs": [
        {
          "output_type": "stream",
          "name": "stdout",
          "text": [
            "evet\n",
            "hayır\n"
          ]
        }
      ]
    },
    {
      "cell_type": "code",
      "source": [
        "def karsilastir(a,b):\n",
        "  if(a<b):\n",
        "    print(\"{b} sayısı {a} sayısından büyüktür\".)\n",
        "karsilastir(2,4)"
      ],
      "metadata": {
        "colab": {
          "base_uri": "https://localhost:8080/"
        },
        "id": "Xo282l_QUiCM",
        "outputId": "43a73b1b-dff1-4508-dbc0-03c6a0a663c5"
      },
      "execution_count": null,
      "outputs": [
        {
          "output_type": "stream",
          "name": "stdout",
          "text": [
            "{b} sayısı {a} sayısından büyüktür\n"
          ]
        }
      ]
    },
    {
      "cell_type": "code",
      "source": [
        "def hesapla(x):\n",
        "    \n",
        "    output= x*x\n",
        "    \n",
        "    return output\n",
        "\n",
        "sonuc = hesapla(3)\n",
        "#aslında aynı işe yarıyorlar fakat daha kısa yoldan fonksiyon yazabiliyoruz\n",
        "sonuc2 = lambda x: x*x \n",
        "\n",
        "print(sonuc2(3)) "
      ],
      "metadata": {
        "colab": {
          "base_uri": "https://localhost:8080/"
        },
        "id": "riY4wY4KVKBN",
        "outputId": "66da2cbc-5f78-46d6-9dad-516c14a7b643"
      },
      "execution_count": null,
      "outputs": [
        {
          "output_type": "stream",
          "name": "stdout",
          "text": [
            "9\n"
          ]
        }
      ]
    },
    {
      "cell_type": "code",
      "source": [
        "i = 0\n",
        "while (i < 12):\n",
        "  print(\"Bu {}.adım. Sonraki adım ise: {} olacaktır.\".format(i,i+1))\n",
        "  i = i + 1\n"
      ],
      "metadata": {
        "colab": {
          "base_uri": "https://localhost:8080/"
        },
        "id": "_NDZx0nSWxeR",
        "outputId": "b0a0452e-e18e-4ec2-d942-f08b21b08b88"
      },
      "execution_count": null,
      "outputs": [
        {
          "output_type": "stream",
          "name": "stdout",
          "text": [
            "Bu 0.adım. Sonraki adım ise: 1 olacaktır.\n",
            "Bu 1.adım. Sonraki adım ise: 2 olacaktır.\n",
            "Bu 2.adım. Sonraki adım ise: 3 olacaktır.\n",
            "Bu 3.adım. Sonraki adım ise: 4 olacaktır.\n",
            "Bu 4.adım. Sonraki adım ise: 5 olacaktır.\n",
            "Bu 5.adım. Sonraki adım ise: 6 olacaktır.\n",
            "Bu 6.adım. Sonraki adım ise: 7 olacaktır.\n",
            "Bu 7.adım. Sonraki adım ise: 8 olacaktır.\n",
            "Bu 8.adım. Sonraki adım ise: 9 olacaktır.\n",
            "Bu 9.adım. Sonraki adım ise: 10 olacaktır.\n",
            "Bu 10.adım. Sonraki adım ise: 11 olacaktır.\n",
            "Bu 11.adım. Sonraki adım ise: 12 olacaktır.\n"
          ]
        }
      ]
    }
  ]
}